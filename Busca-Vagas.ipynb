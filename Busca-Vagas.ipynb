{
 "cells": [
  {
   "cell_type": "code",
   "execution_count": 1,
   "metadata": {},
   "outputs": [],
   "source": [
    "import requests\n",
    "import pandas as pd\n",
    "from bs4 import BeautifulSoup\n",
    "import schedule\n",
    "import time\n",
    "import datetime\n",
    "from twilio.rest import Client\n",
    "def informacoes_gupy():\n",
    "    url = 'https://tecnologiamartins.gupy.io/'\n",
    "    response = requests.get(url)\n",
    "\n",
    "    #criação do objeto que representa o HTML da pg\n",
    "    soup = BeautifulSoup(response.text, 'html.parser')\n",
    "    vagas = soup.find_all('div', class_= \"sc-f5007364-4 gPLESq\")\n",
    "    complemento = f\"*VAGAS DE EMPREGO DO DIA*\\n\"\n",
    "    for vaga in vagas:\n",
    "        complemento += vaga.text + \"\\n\"\n",
    "    return complemento\n",
    "def envia_mensagens():\n",
    "    account_sid = 'ACaee3dcc8add495b3acf8a58c42acd77b'\n",
    "    auth_token = '9aada82fa86d10e5be2a9fe9d4c5abd2'\n",
    "    client = Client(account_sid, auth_token)\n",
    "\n",
    "    message = client.messages.create(\n",
    "    from_='whatsapp:+14155238886',\n",
    "    body=informacoes_gupy(),\n",
    "    to='whatsapp:+553484345667'\n",
    "    )\n",
    "\n",
    "\n",
    "envia_mensagens()\n",
    "print(\"Tarefa realizada com êxito\")"
   ]
  }
 ],
 "metadata": {
  "kernelspec": {
   "display_name": "Python 3",
   "language": "python",
   "name": "python3"
  },
  "language_info": {
   "codemirror_mode": {
    "name": "ipython",
    "version": 3
   },
   "file_extension": ".py",
   "mimetype": "text/x-python",
   "name": "python",
   "nbconvert_exporter": "python",
   "pygments_lexer": "ipython3",
   "version": "3.12.1"
  }
 },
 "nbformat": 4,
 "nbformat_minor": 2
}
